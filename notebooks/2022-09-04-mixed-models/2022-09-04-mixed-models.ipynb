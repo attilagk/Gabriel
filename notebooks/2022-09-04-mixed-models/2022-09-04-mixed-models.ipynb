{
 "cells": [
  {
   "cell_type": "code",
   "execution_count": 1,
   "id": "5b42cae3",
   "metadata": {},
   "outputs": [
    {
     "name": "stdout",
     "output_type": "stream",
     "text": [
      "The autoreload extension is already loaded. To reload it, use:\n",
      "  %reload_ext autoreload\n"
     ]
    }
   ],
   "source": [
    "%load_ext autoreload\n",
    "%autoreload 2\n",
    "%reload_ext autoreload\n",
    "import pandas as pd\n",
    "from pandas.api.types import CategoricalDtype\n",
    "import numpy as np\n",
    "import re\n",
    "import matplotlib.pyplot as plt\n",
    "import statsmodels.api as sm\n",
    "import statsmodels.formula.api as smf\n",
    "import attila_utils"
   ]
  },
  {
   "cell_type": "markdown",
   "id": "c8275462",
   "metadata": {},
   "source": [
    "## Lipid analysis"
   ]
  },
  {
   "cell_type": "code",
   "execution_count": 2,
   "id": "1bfabce3",
   "metadata": {},
   "outputs": [],
   "source": [
    "fpath = '../../resources/lipid-data-species-normalized-pretty.csv'\n",
    "norm_lipid_species = pd.read_csv(fpath, header=[0, 1], index_col=[0, 1])\n",
    "fpath = '../../resources/lipid-data-species-pretty.csv'\n",
    "lipid_species = pd.read_csv(fpath, header=[0, 1], index_col=[0, 1])"
   ]
  },
  {
   "cell_type": "code",
   "execution_count": 3,
   "id": "0d11c879",
   "metadata": {},
   "outputs": [],
   "source": [
    "brain_regions = ['DLPFC', 'CN', 'Putamen']"
   ]
  },
  {
   "cell_type": "code",
   "execution_count": 4,
   "id": "25825425",
   "metadata": {},
   "outputs": [
    {
     "data": {
      "text/html": [
       "<div>\n",
       "<style scoped>\n",
       "    .dataframe tbody tr th:only-of-type {\n",
       "        vertical-align: middle;\n",
       "    }\n",
       "\n",
       "    .dataframe tbody tr th {\n",
       "        vertical-align: top;\n",
       "    }\n",
       "\n",
       "    .dataframe thead th {\n",
       "        text-align: right;\n",
       "    }\n",
       "</style>\n",
       "<table border=\"1\" class=\"dataframe\">\n",
       "  <thead>\n",
       "    <tr style=\"text-align: right;\">\n",
       "      <th></th>\n",
       "      <th></th>\n",
       "      <th></th>\n",
       "      <th></th>\n",
       "      <th>Level</th>\n",
       "      <th>Group</th>\n",
       "      <th>Species</th>\n",
       "      <th>Region</th>\n",
       "      <th>Subject</th>\n",
       "      <th>Dx</th>\n",
       "    </tr>\n",
       "    <tr>\n",
       "      <th>Group</th>\n",
       "      <th>Species</th>\n",
       "      <th>Region</th>\n",
       "      <th>Subject</th>\n",
       "      <th></th>\n",
       "      <th></th>\n",
       "      <th></th>\n",
       "      <th></th>\n",
       "      <th></th>\n",
       "      <th></th>\n",
       "    </tr>\n",
       "  </thead>\n",
       "  <tbody>\n",
       "    <tr>\n",
       "      <th rowspan=\"5\" valign=\"top\">FC</th>\n",
       "      <th rowspan=\"5\" valign=\"top\">FC</th>\n",
       "      <th rowspan=\"5\" valign=\"top\">CN</th>\n",
       "      <th>ChAc 1</th>\n",
       "      <td>74.76526</td>\n",
       "      <td>FC</td>\n",
       "      <td>FC</td>\n",
       "      <td>CN</td>\n",
       "      <td>ChAc 1</td>\n",
       "      <td>ChAc</td>\n",
       "    </tr>\n",
       "    <tr>\n",
       "      <th>ChAc 2</th>\n",
       "      <td>62.75982</td>\n",
       "      <td>FC</td>\n",
       "      <td>FC</td>\n",
       "      <td>CN</td>\n",
       "      <td>ChAc 2</td>\n",
       "      <td>ChAc</td>\n",
       "    </tr>\n",
       "    <tr>\n",
       "      <th>ChAc 3</th>\n",
       "      <td>85.05140</td>\n",
       "      <td>FC</td>\n",
       "      <td>FC</td>\n",
       "      <td>CN</td>\n",
       "      <td>ChAc 3</td>\n",
       "      <td>ChAc</td>\n",
       "    </tr>\n",
       "    <tr>\n",
       "      <th>ChAc 4</th>\n",
       "      <td>85.80184</td>\n",
       "      <td>FC</td>\n",
       "      <td>FC</td>\n",
       "      <td>CN</td>\n",
       "      <td>ChAc 4</td>\n",
       "      <td>ChAc</td>\n",
       "    </tr>\n",
       "    <tr>\n",
       "      <th>Control 1</th>\n",
       "      <td>86.01249</td>\n",
       "      <td>FC</td>\n",
       "      <td>FC</td>\n",
       "      <td>CN</td>\n",
       "      <td>Control 1</td>\n",
       "      <td>Control</td>\n",
       "    </tr>\n",
       "    <tr>\n",
       "      <th>...</th>\n",
       "      <th>...</th>\n",
       "      <th>...</th>\n",
       "      <th>...</th>\n",
       "      <td>...</td>\n",
       "      <td>...</td>\n",
       "      <td>...</td>\n",
       "      <td>...</td>\n",
       "      <td>...</td>\n",
       "      <td>...</td>\n",
       "    </tr>\n",
       "    <tr>\n",
       "      <th rowspan=\"5\" valign=\"top\">NSer</th>\n",
       "      <th rowspan=\"5\" valign=\"top\">NSer 22:6</th>\n",
       "      <th rowspan=\"5\" valign=\"top\">Putamen</th>\n",
       "      <th>Control 2</th>\n",
       "      <td>0.00024</td>\n",
       "      <td>NSer</td>\n",
       "      <td>NSer 22:6</td>\n",
       "      <td>Putamen</td>\n",
       "      <td>Control 2</td>\n",
       "      <td>Control</td>\n",
       "    </tr>\n",
       "    <tr>\n",
       "      <th>Control 3</th>\n",
       "      <td>0.00074</td>\n",
       "      <td>NSer</td>\n",
       "      <td>NSer 22:6</td>\n",
       "      <td>Putamen</td>\n",
       "      <td>Control 3</td>\n",
       "      <td>Control</td>\n",
       "    </tr>\n",
       "    <tr>\n",
       "      <th>Control 4</th>\n",
       "      <td>0.00008</td>\n",
       "      <td>NSer</td>\n",
       "      <td>NSer 22:6</td>\n",
       "      <td>Putamen</td>\n",
       "      <td>Control 4</td>\n",
       "      <td>Control</td>\n",
       "    </tr>\n",
       "    <tr>\n",
       "      <th>Control 5</th>\n",
       "      <td>0.00034</td>\n",
       "      <td>NSer</td>\n",
       "      <td>NSer 22:6</td>\n",
       "      <td>Putamen</td>\n",
       "      <td>Control 5</td>\n",
       "      <td>Control</td>\n",
       "    </tr>\n",
       "    <tr>\n",
       "      <th>Control 6</th>\n",
       "      <td>0.00042</td>\n",
       "      <td>NSer</td>\n",
       "      <td>NSer 22:6</td>\n",
       "      <td>Putamen</td>\n",
       "      <td>Control 6</td>\n",
       "      <td>Control</td>\n",
       "    </tr>\n",
       "  </tbody>\n",
       "</table>\n",
       "<p>17790 rows × 6 columns</p>\n",
       "</div>"
      ],
      "text/plain": [
       "                                       Level Group     Species   Region  \\\n",
       "Group Species    Region  Subject                                          \n",
       "FC    FC         CN      ChAc 1     74.76526    FC          FC       CN   \n",
       "                         ChAc 2     62.75982    FC          FC       CN   \n",
       "                         ChAc 3     85.05140    FC          FC       CN   \n",
       "                         ChAc 4     85.80184    FC          FC       CN   \n",
       "                         Control 1  86.01249    FC          FC       CN   \n",
       "...                                      ...   ...         ...      ...   \n",
       "NSer  NSer 22:6  Putamen Control 2   0.00024  NSer  NSer 22:6   Putamen   \n",
       "                         Control 3   0.00074  NSer  NSer 22:6   Putamen   \n",
       "                         Control 4   0.00008  NSer  NSer 22:6   Putamen   \n",
       "                         Control 5   0.00034  NSer  NSer 22:6   Putamen   \n",
       "                         Control 6   0.00042  NSer  NSer 22:6   Putamen   \n",
       "\n",
       "                                      Subject       Dx  \n",
       "Group Species    Region  Subject                        \n",
       "FC    FC         CN      ChAc 1        ChAc 1     ChAc  \n",
       "                         ChAc 2        ChAc 2     ChAc  \n",
       "                         ChAc 3        ChAc 3     ChAc  \n",
       "                         ChAc 4        ChAc 4     ChAc  \n",
       "                         Control 1  Control 1  Control  \n",
       "...                                       ...      ...  \n",
       "NSer  NSer 22:6  Putamen Control 2  Control 2  Control  \n",
       "                         Control 3  Control 3  Control  \n",
       "                         Control 4  Control 4  Control  \n",
       "                         Control 5  Control 5  Control  \n",
       "                         Control 6  Control 6  Control  \n",
       "\n",
       "[17790 rows x 6 columns]"
      ]
     },
     "execution_count": 4,
     "metadata": {},
     "output_type": "execute_result"
    }
   ],
   "source": [
    "s = lipid_species.stack(level=1).stack().rename_axis(['Group', 'Species', 'Region', 'Subject'])\n",
    "endog = s.to_frame('Level')\n",
    "exog = s.index.to_frame()\n",
    "exog['Dx'] = [re.sub('^(Control|ChAc).*$', '\\\\1', s) for s in exog.Subject]\n",
    "data = pd.concat([endog, exog], axis=1)\n",
    "data = data.astype({\n",
    "    'Region': CategoricalDtype(categories=brain_regions, ordered=True),\n",
    "    'Dx': CategoricalDtype(categories=['Control', 'ChAc'], ordered=True),\n",
    "                   })\n",
    "data"
   ]
  },
  {
   "cell_type": "code",
   "execution_count": 5,
   "id": "41f8dfe2",
   "metadata": {},
   "outputs": [],
   "source": [
    "def extract_group(group, data=data):\n",
    "    val = data.xs(group, axis=0, level='Group')\n",
    "    return(val)\n",
    "\n",
    "d = extract_group('BMP')"
   ]
  },
  {
   "cell_type": "code",
   "execution_count": 6,
   "id": "e98544d6",
   "metadata": {},
   "outputs": [
    {
     "data": {
      "image/png": "[encoded data removed]",
      "text/plain": [
       "<Figure size 432x288 with 3 Axes>"
      ]
     },
     "metadata": {
      "needs_background": "light"
     },
     "output_type": "display_data"
    }
   ],
   "source": [
    "def heatmap(group, data=lipid_species):\n",
    "    fig, ax = plt.subplots(1, 3, sharey=True)\n",
    "    for ix, region in enumerate(brain_regions):\n",
    "        d = data.xs(group, axis=0, level=0)\n",
    "        vmin = d.min().min()\n",
    "        vmax = d.max().max()\n",
    "        d = d.xs(region, axis=1, level=1)\n",
    "        ax[ix].imshow(d, interpolation='none', vmin=vmin, vmax=vmax)\n",
    "        ax[ix].set_title(region)\n",
    "        ax[ix].set_yticks(range(len(d)))\n",
    "        ax[ix].set_yticklabels(d.index)\n",
    "    return((fig, ax))    \n",
    "\n",
    "fig, ax = heatmap('BMP')"
   ]
  },
  {
   "cell_type": "code",
   "execution_count": 7,
   "id": "d6128d38",
   "metadata": {},
   "outputs": [
    {
     "data": {
      "image/png": "[encoded data removed]",
      "text/plain": [
       "<Figure size 432x288 with 3 Axes>"
      ]
     },
     "metadata": {
      "needs_background": "light"
     },
     "output_type": "display_data"
    }
   ],
   "source": [
    "fig, ax = heatmap('Sulf')"
   ]
  },
  {
   "cell_type": "code",
   "execution_count": 8,
   "id": "2cb08bbe",
   "metadata": {},
   "outputs": [
    {
     "data": {
      "image/png": "[encoded data removed]",
      "text/plain": [
       "<Figure size 432x288 with 3 Axes>"
      ]
     },
     "metadata": {
      "needs_background": "light"
     },
     "output_type": "display_data"
    }
   ],
   "source": [
    "fig, ax = heatmap('FC')"
   ]
  },
  {
   "cell_type": "code",
   "execution_count": 9,
   "id": "455c6c65",
   "metadata": {},
   "outputs": [
    {
     "name": "stdout",
     "output_type": "stream",
     "text": [
      "{\n",
      "  \"shell_port\": 58738,\n",
      "  \"iopub_port\": 58739,\n",
      "  \"stdin_port\": 58740,\n",
      "  \"control_port\": 58742,\n",
      "  \"hb_port\": 58741,\n",
      "  \"ip\": \"127.0.0.1\",\n",
      "  \"key\": \"cb655d5b-0723ead18e1739c75c260065\",\n",
      "  \"transport\": \"tcp\",\n",
      "  \"signature_scheme\": \"hmac-sha256\",\n",
      "  \"kernel_name\": \"\"\n",
      "}\n",
      "\n",
      "Paste the above JSON into a file, and connect with:\n",
      "    $> jupyter <app> --existing <file>\n",
      "or, if you are local, you can connect with just:\n",
      "    $> jupyter <app> --existing kernel-92dc17a4-3ede-42d4-8ab8-607ddeecd669.json\n",
      "or even just:\n",
      "    $> jupyter <app> --existing\n",
      "if this is the most recent Jupyter kernel you have started.\n"
     ]
    }
   ],
   "source": [
    "%connect_info"
   ]
  },
  {
   "cell_type": "code",
   "execution_count": null,
   "id": "2e58a19a",
   "metadata": {},
   "outputs": [],
   "source": []
  }
 ],
 "metadata": {
  "kernelspec": {
   "display_name": "Python 3",
   "language": "python",
   "name": "python3"
  },
  "language_info": {
   "codemirror_mode": {
    "name": "ipython",
    "version": 3
   },
   "file_extension": ".py",
   "mimetype": "text/x-python",
   "name": "python",
   "nbconvert_exporter": "python",
   "pygments_lexer": "ipython3",
   "version": "3.8.8"
  }
 },
 "nbformat": 4,
 "nbformat_minor": 5
}
