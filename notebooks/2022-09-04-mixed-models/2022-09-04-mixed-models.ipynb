{
 "cells": [
  {
   "cell_type": "code",
   "execution_count": 1,
   "id": "01926a37",
   "metadata": {},
   "outputs": [
    {
     "name": "stdout",
     "output_type": "stream",
     "text": [
      "The autoreload extension is already loaded. To reload it, use:\n",
      "  %reload_ext autoreload\n"
     ]
    }
   ],
   "source": [
    "%load_ext autoreload\n",
    "%autoreload 2\n",
    "%reload_ext autoreload\n",
    "import pandas as pd\n",
    "from pandas.api.types import CategoricalDtype\n",
    "import numpy as np\n",
    "import re\n",
    "import matplotlib.pyplot as plt\n",
    "import statsmodels.api as sm\n",
    "import statsmodels.formula.api as smf\n",
    "import statsmodels.stats.api as sms\n",
    "import scipy.stats as stats\n",
    "import attila_utils"
   ]
  },
  {
   "cell_type": "markdown",
   "id": "f8065de8",
   "metadata": {},
   "source": [
    "## Data preparation"
   ]
  },
  {
   "cell_type": "code",
   "execution_count": 2,
   "id": "a7113f03",
   "metadata": {},
   "outputs": [],
   "source": [
    "fpath = '../../resources/lipid-data-species-normalized-pretty.csv'\n",
    "norm_lipid_species = pd.read_csv(fpath, header=[0, 1], index_col=[0, 1])\n",
    "fpath = '../../resources/lipid-data-species-pretty.csv'\n",
    "lipid_species = pd.read_csv(fpath, header=[0, 1], index_col=[0, 1])"
   ]
  },
  {
   "cell_type": "code",
   "execution_count": 3,
   "id": "49b7f817",
   "metadata": {},
   "outputs": [],
   "source": [
    "brain_regions = ['DLPFC', 'CN', 'Putamen']"
   ]
  },
  {
   "cell_type": "code",
   "execution_count": 4,
   "id": "7a1872b6",
   "metadata": {},
   "outputs": [
    {
     "data": {
      "text/html": [
       "<div>\n",
       "<style scoped>\n",
       "    .dataframe tbody tr th:only-of-type {\n",
       "        vertical-align: middle;\n",
       "    }\n",
       "\n",
       "    .dataframe tbody tr th {\n",
       "        vertical-align: top;\n",
       "    }\n",
       "\n",
       "    .dataframe thead th {\n",
       "        text-align: right;\n",
       "    }\n",
       "</style>\n",
       "<table border=\"1\" class=\"dataframe\">\n",
       "  <thead>\n",
       "    <tr style=\"text-align: right;\">\n",
       "      <th></th>\n",
       "      <th></th>\n",
       "      <th></th>\n",
       "      <th></th>\n",
       "      <th>Level</th>\n",
       "      <th>Group</th>\n",
       "      <th>Species</th>\n",
       "      <th>Region</th>\n",
       "      <th>Subject</th>\n",
       "      <th>Dx</th>\n",
       "    </tr>\n",
       "    <tr>\n",
       "      <th>Group</th>\n",
       "      <th>Species</th>\n",
       "      <th>Region</th>\n",
       "      <th>Subject</th>\n",
       "      <th></th>\n",
       "      <th></th>\n",
       "      <th></th>\n",
       "      <th></th>\n",
       "      <th></th>\n",
       "      <th></th>\n",
       "    </tr>\n",
       "  </thead>\n",
       "  <tbody>\n",
       "    <tr>\n",
       "      <th rowspan=\"5\" valign=\"top\">FC</th>\n",
       "      <th rowspan=\"5\" valign=\"top\">FC</th>\n",
       "      <th rowspan=\"5\" valign=\"top\">CN</th>\n",
       "      <th>ChAc 1</th>\n",
       "      <td>74.76526</td>\n",
       "      <td>FC</td>\n",
       "      <td>FC</td>\n",
       "      <td>CN</td>\n",
       "      <td>ChAc 1</td>\n",
       "      <td>ChAc</td>\n",
       "    </tr>\n",
       "    <tr>\n",
       "      <th>ChAc 2</th>\n",
       "      <td>62.75982</td>\n",
       "      <td>FC</td>\n",
       "      <td>FC</td>\n",
       "      <td>CN</td>\n",
       "      <td>ChAc 2</td>\n",
       "      <td>ChAc</td>\n",
       "    </tr>\n",
       "    <tr>\n",
       "      <th>ChAc 3</th>\n",
       "      <td>85.05140</td>\n",
       "      <td>FC</td>\n",
       "      <td>FC</td>\n",
       "      <td>CN</td>\n",
       "      <td>ChAc 3</td>\n",
       "      <td>ChAc</td>\n",
       "    </tr>\n",
       "    <tr>\n",
       "      <th>ChAc 4</th>\n",
       "      <td>85.80184</td>\n",
       "      <td>FC</td>\n",
       "      <td>FC</td>\n",
       "      <td>CN</td>\n",
       "      <td>ChAc 4</td>\n",
       "      <td>ChAc</td>\n",
       "    </tr>\n",
       "    <tr>\n",
       "      <th>Control 1</th>\n",
       "      <td>86.01249</td>\n",
       "      <td>FC</td>\n",
       "      <td>FC</td>\n",
       "      <td>CN</td>\n",
       "      <td>Control 1</td>\n",
       "      <td>Control</td>\n",
       "    </tr>\n",
       "    <tr>\n",
       "      <th>...</th>\n",
       "      <th>...</th>\n",
       "      <th>...</th>\n",
       "      <th>...</th>\n",
       "      <td>...</td>\n",
       "      <td>...</td>\n",
       "      <td>...</td>\n",
       "      <td>...</td>\n",
       "      <td>...</td>\n",
       "      <td>...</td>\n",
       "    </tr>\n",
       "    <tr>\n",
       "      <th rowspan=\"5\" valign=\"top\">NSer</th>\n",
       "      <th rowspan=\"5\" valign=\"top\">NSer 22:6</th>\n",
       "      <th rowspan=\"5\" valign=\"top\">Putamen</th>\n",
       "      <th>Control 2</th>\n",
       "      <td>0.00024</td>\n",
       "      <td>NSer</td>\n",
       "      <td>NSer 22:6</td>\n",
       "      <td>Putamen</td>\n",
       "      <td>Control 2</td>\n",
       "      <td>Control</td>\n",
       "    </tr>\n",
       "    <tr>\n",
       "      <th>Control 3</th>\n",
       "      <td>0.00074</td>\n",
       "      <td>NSer</td>\n",
       "      <td>NSer 22:6</td>\n",
       "      <td>Putamen</td>\n",
       "      <td>Control 3</td>\n",
       "      <td>Control</td>\n",
       "    </tr>\n",
       "    <tr>\n",
       "      <th>Control 4</th>\n",
       "      <td>0.00008</td>\n",
       "      <td>NSer</td>\n",
       "      <td>NSer 22:6</td>\n",
       "      <td>Putamen</td>\n",
       "      <td>Control 4</td>\n",
       "      <td>Control</td>\n",
       "    </tr>\n",
       "    <tr>\n",
       "      <th>Control 5</th>\n",
       "      <td>0.00034</td>\n",
       "      <td>NSer</td>\n",
       "      <td>NSer 22:6</td>\n",
       "      <td>Putamen</td>\n",
       "      <td>Control 5</td>\n",
       "      <td>Control</td>\n",
       "    </tr>\n",
       "    <tr>\n",
       "      <th>Control 6</th>\n",
       "      <td>0.00042</td>\n",
       "      <td>NSer</td>\n",
       "      <td>NSer 22:6</td>\n",
       "      <td>Putamen</td>\n",
       "      <td>Control 6</td>\n",
       "      <td>Control</td>\n",
       "    </tr>\n",
       "  </tbody>\n",
       "</table>\n",
       "<p>17790 rows × 6 columns</p>\n",
       "</div>"
      ],
      "text/plain": [
       "                                       Level Group     Species   Region  \\\n",
       "Group Species    Region  Subject                                          \n",
       "FC    FC         CN      ChAc 1     74.76526    FC          FC       CN   \n",
       "                         ChAc 2     62.75982    FC          FC       CN   \n",
       "                         ChAc 3     85.05140    FC          FC       CN   \n",
       "                         ChAc 4     85.80184    FC          FC       CN   \n",
       "                         Control 1  86.01249    FC          FC       CN   \n",
       "...                                      ...   ...         ...      ...   \n",
       "NSer  NSer 22:6  Putamen Control 2   0.00024  NSer  NSer 22:6   Putamen   \n",
       "                         Control 3   0.00074  NSer  NSer 22:6   Putamen   \n",
       "                         Control 4   0.00008  NSer  NSer 22:6   Putamen   \n",
       "                         Control 5   0.00034  NSer  NSer 22:6   Putamen   \n",
       "                         Control 6   0.00042  NSer  NSer 22:6   Putamen   \n",
       "\n",
       "                                      Subject       Dx  \n",
       "Group Species    Region  Subject                        \n",
       "FC    FC         CN      ChAc 1        ChAc 1     ChAc  \n",
       "                         ChAc 2        ChAc 2     ChAc  \n",
       "                         ChAc 3        ChAc 3     ChAc  \n",
       "                         ChAc 4        ChAc 4     ChAc  \n",
       "                         Control 1  Control 1  Control  \n",
       "...                                       ...      ...  \n",
       "NSer  NSer 22:6  Putamen Control 2  Control 2  Control  \n",
       "                         Control 3  Control 3  Control  \n",
       "                         Control 4  Control 4  Control  \n",
       "                         Control 5  Control 5  Control  \n",
       "                         Control 6  Control 6  Control  \n",
       "\n",
       "[17790 rows x 6 columns]"
      ]
     },
     "execution_count": 4,
     "metadata": {},
     "output_type": "execute_result"
    }
   ],
   "source": [
    "def to_long_format(wide_data):\n",
    "    s = wide_data.stack(level=1).stack().rename_axis(['Group', 'Species', 'Region', 'Subject'])\n",
    "    endog = s.to_frame('Level')\n",
    "    exog = s.index.to_frame()\n",
    "    exog['Dx'] = [re.sub('^(Control|ChAc).*$', '\\\\1', s) for s in exog.Subject]\n",
    "    data = pd.concat([endog, exog], axis=1)\n",
    "    data = data.astype({\n",
    "        'Region': CategoricalDtype(categories=brain_regions, ordered=True),\n",
    "        'Dx': CategoricalDtype(categories=['Control', 'ChAc'], ordered=True),\n",
    "                       })\n",
    "    return(data)\n",
    "\n",
    "data = to_long_format(lipid_species)\n",
    "normdata = to_long_format(norm_lipid_species)\n",
    "data"
   ]
  },
  {
   "cell_type": "markdown",
   "id": "f42bcb57",
   "metadata": {},
   "source": [
    "## Normalization?  It's necessary.\n",
    "\n",
    "Here I inspect whether unnormalized data might be amenable for fitting regression models.  The heatmaps show that some lipid species within a lipid group have much higher levels across all or most samples than the rest of the species. Fitting models (later) to unnormalized data confirmed this.\n",
    "\n",
    "### Lipid group: BMP"
   ]
  },
  {
   "cell_type": "code",
   "execution_count": 5,
   "id": "cc9dde07",
   "metadata": {},
   "outputs": [
    {
     "data": {
      "image/png": "[encoded data removed]",
      "text/plain": [
       "<Figure size 432x288 with 3 Axes>"
      ]
     },
     "metadata": {
      "needs_background": "light"
     },
     "output_type": "display_data"
    }
   ],
   "source": [
    "def heatmap(group, data=lipid_species):\n",
    "    fig, ax = plt.subplots(1, 3, sharey=True)\n",
    "    for ix, region in enumerate(brain_regions):\n",
    "        d = data.xs(group, axis=0, level=0)\n",
    "        vmin = d.min().min()\n",
    "        vmax = d.max().max()\n",
    "        d = d.xs(region, axis=1, level=1)\n",
    "        ax[ix].imshow(d, interpolation='none', vmin=vmin, vmax=vmax)\n",
    "        ax[ix].set_title(region)\n",
    "        ax[ix].set_yticks(range(len(d)))\n",
    "        ax[ix].set_yticklabels(d.index)\n",
    "        fig.suptitle('Lipid group: ' + group)\n",
    "    return((fig, ax))    \n",
    "\n",
    "fig, ax = heatmap('BMP', lipid_species)"
   ]
  },
  {
   "cell_type": "code",
   "execution_count": 6,
   "id": "81009a97",
   "metadata": {},
   "outputs": [
    {
     "data": {
      "image/png": "[encoded data removed]",
      "text/plain": [
       "<Figure size 432x288 with 3 Axes>"
      ]
     },
     "metadata": {
      "needs_background": "light"
     },
     "output_type": "display_data"
    }
   ],
   "source": [
    "fig, ax = heatmap('BMP', norm_lipid_species)"
   ]
  },
  {
   "cell_type": "markdown",
   "id": "88734f4a",
   "metadata": {},
   "source": [
    "### Lipid group: Sulf"
   ]
  },
  {
   "cell_type": "code",
   "execution_count": 7,
   "id": "6a44aefb",
   "metadata": {},
   "outputs": [
    {
     "data": {
      "image/png": "[encoded data removed]",
      "text/plain": [
       "<Figure size 432x288 with 3 Axes>"
      ]
     },
     "metadata": {
      "needs_background": "light"
     },
     "output_type": "display_data"
    }
   ],
   "source": [
    "fig, ax = heatmap('Sulf', lipid_species)"
   ]
  },
  {
   "cell_type": "code",
   "execution_count": 8,
   "id": "04372246",
   "metadata": {},
   "outputs": [
    {
     "data": {
      "image/png": "[encoded data removed]",
      "text/plain": [
       "<Figure size 432x288 with 3 Axes>"
      ]
     },
     "metadata": {
      "needs_background": "light"
     },
     "output_type": "display_data"
    }
   ],
   "source": [
    "fig, ax = heatmap('Sulf', norm_lipid_species)"
   ]
  },
  {
   "cell_type": "markdown",
   "id": "921181d9",
   "metadata": {},
   "source": [
    "### Lipid group: PG"
   ]
  },
  {
   "cell_type": "code",
   "execution_count": 9,
   "id": "bdd80f20",
   "metadata": {},
   "outputs": [
    {
     "data": {
      "image/png": "[encoded data removed]",
      "text/plain": [
       "<Figure size 432x288 with 3 Axes>"
      ]
     },
     "metadata": {
      "needs_background": "light"
     },
     "output_type": "display_data"
    }
   ],
   "source": [
    "fig, ax = heatmap('PG', lipid_species)"
   ]
  },
  {
   "cell_type": "code",
   "execution_count": 10,
   "id": "74388036",
   "metadata": {},
   "outputs": [
    {
     "data": {
      "image/png": "[encoded data removed]",
      "text/plain": [
       "<Figure size 432x288 with 3 Axes>"
      ]
     },
     "metadata": {
      "needs_background": "light"
     },
     "output_type": "display_data"
    }
   ],
   "source": [
    "fig, ax = heatmap('PG', norm_lipid_species)"
   ]
  },
  {
   "cell_type": "markdown",
   "id": "67be7b0f",
   "metadata": {},
   "source": [
    "## Goodness of fit"
   ]
  },
  {
   "cell_type": "code",
   "execution_count": 11,
   "id": "0ea9b5aa",
   "metadata": {},
   "outputs": [],
   "source": [
    "def extract_group(group, df=data):\n",
    "    val = df.xs(group, axis=0, level='Group')\n",
    "    return(val)\n",
    "\n",
    "def fit_to_group(formula, group, effects='mixed', df=normdata):\n",
    "    d = extract_group(group, df)\n",
    "    if effects == 'mixed':\n",
    "        md = smf.mixedlm(formula, data=d, groups='Subject')\n",
    "    if effects == 'fixed':\n",
    "        md = smf.ols(formula, data=d)\n",
    "    mdf = md.fit()\n",
    "    return(mdf)"
   ]
  },
  {
   "cell_type": "markdown",
   "id": "49e22e8b",
   "metadata": {},
   "source": [
    "### Lipid group: BMP"
   ]
  },
  {
   "cell_type": "code",
   "execution_count": 12,
   "id": "1b699bd3",
   "metadata": {},
   "outputs": [
    {
     "name": "stderr",
     "output_type": "stream",
     "text": [
      "/usr/local/anaconda3/lib/python3.8/site-packages/statsmodels/regression/mixed_linear_model.py:2237: ConvergenceWarning: The MLE may be on the boundary of the parameter space.\n",
      "  warnings.warn(msg, ConvergenceWarning)\n",
      "/usr/local/anaconda3/lib/python3.8/site-packages/statsmodels/regression/mixed_linear_model.py:2237: ConvergenceWarning: The MLE may be on the boundary of the parameter space.\n",
      "  warnings.warn(msg, ConvergenceWarning)\n",
      "/usr/local/anaconda3/lib/python3.8/site-packages/statsmodels/regression/mixed_linear_model.py:2237: ConvergenceWarning: The MLE may be on the boundary of the parameter space.\n",
      "  warnings.warn(msg, ConvergenceWarning)\n"
     ]
    }
   ],
   "source": [
    "formulas = ['Level ~ 1 + Dx:Region', 'Level ~ 1 + Dx + Dx:Region', 'Level ~ 1 + Dx + Region + Dx:Region']\n",
    "sel_groups = ['BMP', 'Sulf', 'PG']\n",
    "#mixedfs = {f: fit_mixed_to_group(f, 'BMP', df=normdata) for f in formulas}\n",
    "mixedfs = {g: {f: fit_to_group(f, g, effects='mixed', df=normdata) for f in formulas} for g in sel_groups}\n",
    "fixedfs = {g: {f: fit_to_group(f, g, effects='fixed', df=normdata) for f in formulas} for g in sel_groups}"
   ]
  },
  {
   "cell_type": "code",
   "execution_count": 13,
   "id": "45d228eb",
   "metadata": {},
   "outputs": [
    {
     "data": {
      "text/plain": [
       "{'BMP': {'Level ~ 1 + Dx:Region': 3.994612945889285e-36,\n",
       "  'Level ~ 1 + Dx + Dx:Region': 3.994612945889113e-36,\n",
       "  'Level ~ 1 + Dx + Region + Dx:Region': 3.994612945889055e-36},\n",
       " 'Sulf': {'Level ~ 1 + Dx:Region': 2.213820292935249e-10,\n",
       "  'Level ~ 1 + Dx + Dx:Region': 2.213820292935381e-10,\n",
       "  'Level ~ 1 + Dx + Region + Dx:Region': 2.213820292935595e-10},\n",
       " 'PG': {'Level ~ 1 + Dx:Region': 5.5102796620863075e-14,\n",
       "  'Level ~ 1 + Dx + Dx:Region': 5.5102796620848724e-14,\n",
       "  'Level ~ 1 + Dx + Region + Dx:Region': 5.5102796620858026e-14}}"
      ]
     },
     "execution_count": 13,
     "metadata": {},
     "output_type": "execute_result"
    }
   ],
   "source": [
    "{g: {f: sms.jarque_bera(m.resid)[1] for f, m in d.items()} for g, d in mixedfs.items()}"
   ]
  },
  {
   "cell_type": "code",
   "execution_count": 15,
   "id": "cccdd5fb",
   "metadata": {},
   "outputs": [
    {
     "data": {
      "text/plain": [
       "{'BMP': {'Level ~ 1 + Dx:Region': 5.584233982336527e-35,\n",
       "  'Level ~ 1 + Dx + Dx:Region': 5.584233982336366e-35,\n",
       "  'Level ~ 1 + Dx + Region + Dx:Region': 5.584233982336606e-35},\n",
       " 'Sulf': {'Level ~ 1 + Dx:Region': 3.024415103665322e-12,\n",
       "  'Level ~ 1 + Dx + Dx:Region': 3.0244151036654002e-12,\n",
       "  'Level ~ 1 + Dx + Region + Dx:Region': 3.0244151036654673e-12},\n",
       " 'PG': {'Level ~ 1 + Dx:Region': 4.967621908073297e-13,\n",
       "  'Level ~ 1 + Dx + Dx:Region': 4.967621908073297e-13,\n",
       "  'Level ~ 1 + Dx + Region + Dx:Region': 4.967621908074029e-13}}"
      ]
     },
     "execution_count": 15,
     "metadata": {},
     "output_type": "execute_result"
    }
   ],
   "source": [
    "{g: {f: sms.jarque_bera(m.resid)[1] for f, m in d.items()} for g, d in fixedfs.items()}"
   ]
  },
  {
   "cell_type": "raw",
   "id": "1f118949",
   "metadata": {},
   "source": [
    "fig, ax = plt.subplots(figsize=(4, 4))\n",
    "ax = sm.qqplot(fixedf.resid_pearson, stats.norm, ax=ax, line='45', marker='.')"
   ]
  },
  {
   "cell_type": "code",
   "execution_count": 14,
   "id": "b104d11d",
   "metadata": {},
   "outputs": [
    {
     "name": "stdout",
     "output_type": "stream",
     "text": [
      "{\n",
      "  \"shell_port\": 58738,\n",
      "  \"iopub_port\": 58739,\n",
      "  \"stdin_port\": 58740,\n",
      "  \"control_port\": 58742,\n",
      "  \"hb_port\": 58741,\n",
      "  \"ip\": \"127.0.0.1\",\n",
      "  \"key\": \"cb655d5b-0723ead18e1739c75c260065\",\n",
      "  \"transport\": \"tcp\",\n",
      "  \"signature_scheme\": \"hmac-sha256\",\n",
      "  \"kernel_name\": \"\"\n",
      "}\n",
      "\n",
      "Paste the above JSON into a file, and connect with:\n",
      "    $> jupyter <app> --existing <file>\n",
      "or, if you are local, you can connect with just:\n",
      "    $> jupyter <app> --existing kernel-92dc17a4-3ede-42d4-8ab8-607ddeecd669.json\n",
      "or even just:\n",
      "    $> jupyter <app> --existing\n",
      "if this is the most recent Jupyter kernel you have started.\n"
     ]
    }
   ],
   "source": [
    "%connect_info"
   ]
  },
  {
   "cell_type": "code",
   "execution_count": null,
   "id": "4137d12f",
   "metadata": {},
   "outputs": [],
   "source": []
  }
 ],
 "metadata": {
  "kernelspec": {
   "display_name": "Python 3",
   "language": "python",
   "name": "python3"
  },
  "language_info": {
   "codemirror_mode": {
    "name": "ipython",
    "version": 3
   },
   "file_extension": ".py",
   "mimetype": "text/x-python",
   "name": "python",
   "nbconvert_exporter": "python",
   "pygments_lexer": "ipython3",
   "version": "3.8.8"
  }
 },
 "nbformat": 4,
 "nbformat_minor": 5
}
