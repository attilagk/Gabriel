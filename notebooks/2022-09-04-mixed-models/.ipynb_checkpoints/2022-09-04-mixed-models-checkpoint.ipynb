{
 "cells": [
  {
   "cell_type": "code",
   "execution_count": 1,
   "id": "50f640e5",
   "metadata": {},
   "outputs": [
    {
     "name": "stdout",
     "output_type": "stream",
     "text": [
      "The autoreload extension is already loaded. To reload it, use:\n",
      "  %reload_ext autoreload\n"
     ]
    }
   ],
   "source": [
    "%load_ext autoreload\n",
    "%autoreload 2\n",
    "%reload_ext autoreload\n",
    "import pandas as pd\n",
    "from pandas.api.types import CategoricalDtype\n",
    "import numpy as np\n",
    "import re\n",
    "import matplotlib.pyplot as plt\n",
    "import statsmodels.api as sm\n",
    "import statsmodels.formula.api as smf\n",
    "import attila_utils"
   ]
  },
  {
   "cell_type": "markdown",
   "id": "85ffb4f7",
   "metadata": {},
   "source": [
    "## Lipid analysis"
   ]
  },
  {
   "cell_type": "code",
   "execution_count": 2,
   "id": "7c55cf35",
   "metadata": {},
   "outputs": [],
   "source": [
    "fpath = '../../resources/lipid-data-species-normalized-pretty.csv'\n",
    "norm_lipid_species = pd.read_csv(fpath, header=[0, 1], index_col=[0, 1])\n",
    "fpath = '../../resources/lipid-data-species-pretty.csv'\n",
    "lipid_species = pd.read_csv(fpath, header=[0, 1], index_col=[0, 1])"
   ]
  },
  {
   "cell_type": "code",
   "execution_count": 3,
   "id": "859ae949",
   "metadata": {},
   "outputs": [],
   "source": [
    "brain_regions = ['DLPFC', 'CN', 'Putamen']"
   ]
  },
  {
   "cell_type": "code",
   "execution_count": 4,
   "id": "d77fed84",
   "metadata": {},
   "outputs": [
    {
     "data": {
      "text/html": [
       "<div>\n",
       "<style scoped>\n",
       "    .dataframe tbody tr th:only-of-type {\n",
       "        vertical-align: middle;\n",
       "    }\n",
       "\n",
       "    .dataframe tbody tr th {\n",
       "        vertical-align: top;\n",
       "    }\n",
       "\n",
       "    .dataframe thead th {\n",
       "        text-align: right;\n",
       "    }\n",
       "</style>\n",
       "<table border=\"1\" class=\"dataframe\">\n",
       "  <thead>\n",
       "    <tr style=\"text-align: right;\">\n",
       "      <th></th>\n",
       "      <th></th>\n",
       "      <th></th>\n",
       "      <th></th>\n",
       "      <th>Level</th>\n",
       "      <th>Group</th>\n",
       "      <th>Species</th>\n",
       "      <th>Region</th>\n",
       "      <th>Subject</th>\n",
       "      <th>Dx</th>\n",
       "    </tr>\n",
       "    <tr>\n",
       "      <th>Group</th>\n",
       "      <th>Species</th>\n",
       "      <th>Region</th>\n",
       "      <th>Subject</th>\n",
       "      <th></th>\n",
       "      <th></th>\n",
       "      <th></th>\n",
       "      <th></th>\n",
       "      <th></th>\n",
       "      <th></th>\n",
       "    </tr>\n",
       "  </thead>\n",
       "  <tbody>\n",
       "    <tr>\n",
       "      <th rowspan=\"5\" valign=\"top\">FC</th>\n",
       "      <th rowspan=\"5\" valign=\"top\">FC</th>\n",
       "      <th rowspan=\"5\" valign=\"top\">CN</th>\n",
       "      <th>ChAc 1</th>\n",
       "      <td>74.76526</td>\n",
       "      <td>FC</td>\n",
       "      <td>FC</td>\n",
       "      <td>CN</td>\n",
       "      <td>ChAc 1</td>\n",
       "      <td>ChAc</td>\n",
       "    </tr>\n",
       "    <tr>\n",
       "      <th>ChAc 2</th>\n",
       "      <td>62.75982</td>\n",
       "      <td>FC</td>\n",
       "      <td>FC</td>\n",
       "      <td>CN</td>\n",
       "      <td>ChAc 2</td>\n",
       "      <td>ChAc</td>\n",
       "    </tr>\n",
       "    <tr>\n",
       "      <th>ChAc 3</th>\n",
       "      <td>85.05140</td>\n",
       "      <td>FC</td>\n",
       "      <td>FC</td>\n",
       "      <td>CN</td>\n",
       "      <td>ChAc 3</td>\n",
       "      <td>ChAc</td>\n",
       "    </tr>\n",
       "    <tr>\n",
       "      <th>ChAc 4</th>\n",
       "      <td>85.80184</td>\n",
       "      <td>FC</td>\n",
       "      <td>FC</td>\n",
       "      <td>CN</td>\n",
       "      <td>ChAc 4</td>\n",
       "      <td>ChAc</td>\n",
       "    </tr>\n",
       "    <tr>\n",
       "      <th>Control 1</th>\n",
       "      <td>86.01249</td>\n",
       "      <td>FC</td>\n",
       "      <td>FC</td>\n",
       "      <td>CN</td>\n",
       "      <td>Control 1</td>\n",
       "      <td>Control</td>\n",
       "    </tr>\n",
       "    <tr>\n",
       "      <th>...</th>\n",
       "      <th>...</th>\n",
       "      <th>...</th>\n",
       "      <th>...</th>\n",
       "      <td>...</td>\n",
       "      <td>...</td>\n",
       "      <td>...</td>\n",
       "      <td>...</td>\n",
       "      <td>...</td>\n",
       "      <td>...</td>\n",
       "    </tr>\n",
       "    <tr>\n",
       "      <th rowspan=\"5\" valign=\"top\">NSer</th>\n",
       "      <th rowspan=\"5\" valign=\"top\">NSer 22:6</th>\n",
       "      <th rowspan=\"5\" valign=\"top\">Putamen</th>\n",
       "      <th>Control 2</th>\n",
       "      <td>0.00024</td>\n",
       "      <td>NSer</td>\n",
       "      <td>NSer 22:6</td>\n",
       "      <td>Putamen</td>\n",
       "      <td>Control 2</td>\n",
       "      <td>Control</td>\n",
       "    </tr>\n",
       "    <tr>\n",
       "      <th>Control 3</th>\n",
       "      <td>0.00074</td>\n",
       "      <td>NSer</td>\n",
       "      <td>NSer 22:6</td>\n",
       "      <td>Putamen</td>\n",
       "      <td>Control 3</td>\n",
       "      <td>Control</td>\n",
       "    </tr>\n",
       "    <tr>\n",
       "      <th>Control 4</th>\n",
       "      <td>0.00008</td>\n",
       "      <td>NSer</td>\n",
       "      <td>NSer 22:6</td>\n",
       "      <td>Putamen</td>\n",
       "      <td>Control 4</td>\n",
       "      <td>Control</td>\n",
       "    </tr>\n",
       "    <tr>\n",
       "      <th>Control 5</th>\n",
       "      <td>0.00034</td>\n",
       "      <td>NSer</td>\n",
       "      <td>NSer 22:6</td>\n",
       "      <td>Putamen</td>\n",
       "      <td>Control 5</td>\n",
       "      <td>Control</td>\n",
       "    </tr>\n",
       "    <tr>\n",
       "      <th>Control 6</th>\n",
       "      <td>0.00042</td>\n",
       "      <td>NSer</td>\n",
       "      <td>NSer 22:6</td>\n",
       "      <td>Putamen</td>\n",
       "      <td>Control 6</td>\n",
       "      <td>Control</td>\n",
       "    </tr>\n",
       "  </tbody>\n",
       "</table>\n",
       "<p>17790 rows × 6 columns</p>\n",
       "</div>"
      ],
      "text/plain": [
       "                                       Level Group     Species   Region  \\\n",
       "Group Species    Region  Subject                                          \n",
       "FC    FC         CN      ChAc 1     74.76526    FC          FC       CN   \n",
       "                         ChAc 2     62.75982    FC          FC       CN   \n",
       "                         ChAc 3     85.05140    FC          FC       CN   \n",
       "                         ChAc 4     85.80184    FC          FC       CN   \n",
       "                         Control 1  86.01249    FC          FC       CN   \n",
       "...                                      ...   ...         ...      ...   \n",
       "NSer  NSer 22:6  Putamen Control 2   0.00024  NSer  NSer 22:6   Putamen   \n",
       "                         Control 3   0.00074  NSer  NSer 22:6   Putamen   \n",
       "                         Control 4   0.00008  NSer  NSer 22:6   Putamen   \n",
       "                         Control 5   0.00034  NSer  NSer 22:6   Putamen   \n",
       "                         Control 6   0.00042  NSer  NSer 22:6   Putamen   \n",
       "\n",
       "                                      Subject       Dx  \n",
       "Group Species    Region  Subject                        \n",
       "FC    FC         CN      ChAc 1        ChAc 1     ChAc  \n",
       "                         ChAc 2        ChAc 2     ChAc  \n",
       "                         ChAc 3        ChAc 3     ChAc  \n",
       "                         ChAc 4        ChAc 4     ChAc  \n",
       "                         Control 1  Control 1  Control  \n",
       "...                                       ...      ...  \n",
       "NSer  NSer 22:6  Putamen Control 2  Control 2  Control  \n",
       "                         Control 3  Control 3  Control  \n",
       "                         Control 4  Control 4  Control  \n",
       "                         Control 5  Control 5  Control  \n",
       "                         Control 6  Control 6  Control  \n",
       "\n",
       "[17790 rows x 6 columns]"
      ]
     },
     "execution_count": 4,
     "metadata": {},
     "output_type": "execute_result"
    }
   ],
   "source": [
    "def to_long_format(wide_data):\n",
    "    s = wide_data.stack(level=1).stack().rename_axis(['Group', 'Species', 'Region', 'Subject'])\n",
    "    endog = s.to_frame('Level')\n",
    "    exog = s.index.to_frame()\n",
    "    exog['Dx'] = [re.sub('^(Control|ChAc).*$', '\\\\1', s) for s in exog.Subject]\n",
    "    data = pd.concat([endog, exog], axis=1)\n",
    "    data = data.astype({\n",
    "        'Region': CategoricalDtype(categories=brain_regions, ordered=True),\n",
    "        'Dx': CategoricalDtype(categories=['Control', 'ChAc'], ordered=True),\n",
    "                       })\n",
    "    return(data)\n",
    "\n",
    "data = to_long_format(lipid_species)\n",
    "normdata = to_long_format(norm_lipid_species)\n",
    "data"
   ]
  },
  {
   "cell_type": "code",
   "execution_count": 5,
   "id": "19cfcedc",
   "metadata": {},
   "outputs": [
    {
     "data": {
      "image/png": "[encoded data removed]",
      "text/plain": [
       "<Figure size 432x288 with 3 Axes>"
      ]
     },
     "metadata": {
      "needs_background": "light"
     },
     "output_type": "display_data"
    }
   ],
   "source": [
    "def heatmap(group, data=lipid_species):\n",
    "    fig, ax = plt.subplots(1, 3, sharey=True)\n",
    "    for ix, region in enumerate(brain_regions):\n",
    "        d = data.xs(group, axis=0, level=0)\n",
    "        vmin = d.min().min()\n",
    "        vmax = d.max().max()\n",
    "        d = d.xs(region, axis=1, level=1)\n",
    "        ax[ix].imshow(d, interpolation='none', vmin=vmin, vmax=vmax)\n",
    "        ax[ix].set_title(region)\n",
    "        ax[ix].set_yticks(range(len(d)))\n",
    "        ax[ix].set_yticklabels(d.index)\n",
    "    return((fig, ax))    \n",
    "\n",
    "fig, ax = heatmap('BMP', lipid_species)"
   ]
  },
  {
   "cell_type": "code",
   "execution_count": 6,
   "id": "55cfe5a5",
   "metadata": {},
   "outputs": [
    {
     "data": {
      "image/png": "[encoded data removed]",
      "text/plain": [
       "<Figure size 432x288 with 3 Axes>"
      ]
     },
     "metadata": {
      "needs_background": "light"
     },
     "output_type": "display_data"
    }
   ],
   "source": [
    "fig, ax = heatmap('BMP', norm_lipid_species)"
   ]
  },
  {
   "cell_type": "code",
   "execution_count": 7,
   "id": "2662b96b",
   "metadata": {},
   "outputs": [
    {
     "name": "stderr",
     "output_type": "stream",
     "text": [
      "/usr/local/anaconda3/lib/python3.8/site-packages/statsmodels/regression/mixed_linear_model.py:2237: ConvergenceWarning: The MLE may be on the boundary of the parameter space.\n",
      "  warnings.warn(msg, ConvergenceWarning)\n"
     ]
    },
    {
     "data": {
      "text/html": [
       "<table class=\"simpletable\">\n",
       "<tr>\n",
       "       <td>Model:</td>       <td>MixedLM</td> <td>Dependent Variable:</td>  <td>Level</td> \n",
       "</tr>\n",
       "<tr>\n",
       "  <td>No. Observations:</td>   <td>750</td>         <td>Method:</td>        <td>REML</td>  \n",
       "</tr>\n",
       "<tr>\n",
       "     <td>No. Groups:</td>      <td>10</td>          <td>Scale:</td>        <td>0.0504</td> \n",
       "</tr>\n",
       "<tr>\n",
       "  <td>Min. group size:</td>    <td>75</td>      <td>Log-Likelihood:</td>   <td>30.5655</td>\n",
       "</tr>\n",
       "<tr>\n",
       "  <td>Max. group size:</td>    <td>75</td>        <td>Converged:</td>        <td>Yes</td>  \n",
       "</tr>\n",
       "<tr>\n",
       "  <td>Mean group size:</td>   <td>75.0</td>            <td></td>              <td></td>    \n",
       "</tr>\n",
       "</table>\n",
       "<table class=\"simpletable\">\n",
       "<tr>\n",
       "                <td></td>                 <th>Coef.</th> <th>Std.Err.</th>    <th>z</th>   <th>P>|z|</th> <th>[0.025</th> <th>0.975]</th>\n",
       "</tr>\n",
       "<tr>\n",
       "  <th>Intercept</th>                      <td>0.179</td>   <td>0.044</td>   <td>4.027</td> <td>0.000</td>  <td>0.092</td>  <td>0.266</td>\n",
       "</tr>\n",
       "<tr>\n",
       "  <th>Dx[T.ChAc]</th>                     <td>0.120</td>   <td>0.070</td>   <td>1.705</td> <td>0.088</td> <td>-0.018</td>  <td>0.257</td>\n",
       "</tr>\n",
       "<tr>\n",
       "  <th>Dx[Control]:Region[T.CN]</th>      <td>-0.044</td>   <td>0.026</td>  <td>-1.706</td> <td>0.088</td> <td>-0.095</td>  <td>0.007</td>\n",
       "</tr>\n",
       "<tr>\n",
       "  <th>Dx[ChAc]:Region[T.CN]</th>          <td>0.109</td>   <td>0.032</td>   <td>3.447</td> <td>0.001</td>  <td>0.047</td>  <td>0.172</td>\n",
       "</tr>\n",
       "<tr>\n",
       "  <th>Dx[Control]:Region[T.Putamen]</th>  <td>0.000</td>   <td>0.026</td>   <td>0.007</td> <td>0.994</td> <td>-0.051</td>  <td>0.051</td>\n",
       "</tr>\n",
       "<tr>\n",
       "  <th>Dx[ChAc]:Region[T.Putamen]</th>     <td>0.069</td>   <td>0.032</td>   <td>2.184</td> <td>0.029</td>  <td>0.007</td>  <td>0.132</td>\n",
       "</tr>\n",
       "<tr>\n",
       "  <th>Subject Var</th>                    <td>0.010</td>   <td>0.023</td>     <td></td>      <td></td>       <td></td>       <td></td>   \n",
       "</tr>\n",
       "</table>"
      ],
      "text/plain": [
       "<class 'statsmodels.iolib.summary2.Summary'>\n",
       "\"\"\"\n",
       "                 Mixed Linear Model Regression Results\n",
       "========================================================================\n",
       "Model:                   MixedLM       Dependent Variable:       Level  \n",
       "No. Observations:        750           Method:                   REML   \n",
       "No. Groups:              10            Scale:                    0.0504 \n",
       "Min. group size:         75            Log-Likelihood:           30.5655\n",
       "Max. group size:         75            Converged:                Yes    \n",
       "Mean group size:         75.0                                           \n",
       "------------------------------------------------------------------------\n",
       "                              Coef.  Std.Err.   z    P>|z| [0.025 0.975]\n",
       "------------------------------------------------------------------------\n",
       "Intercept                      0.179    0.044  4.027 0.000  0.092  0.266\n",
       "Dx[T.ChAc]                     0.120    0.070  1.705 0.088 -0.018  0.257\n",
       "Dx[Control]:Region[T.CN]      -0.044    0.026 -1.706 0.088 -0.095  0.007\n",
       "Dx[ChAc]:Region[T.CN]          0.109    0.032  3.447 0.001  0.047  0.172\n",
       "Dx[Control]:Region[T.Putamen]  0.000    0.026  0.007 0.994 -0.051  0.051\n",
       "Dx[ChAc]:Region[T.Putamen]     0.069    0.032  2.184 0.029  0.007  0.132\n",
       "Subject Var                    0.010    0.023                           \n",
       "========================================================================\n",
       "\n",
       "\"\"\""
      ]
     },
     "execution_count": 7,
     "metadata": {},
     "output_type": "execute_result"
    }
   ],
   "source": [
    "def extract_group(group, df=data):\n",
    "    val = df.xs(group, axis=0, level='Group')\n",
    "    return(val)\n",
    "\n",
    "d = extract_group('BMP')\n",
    "\n",
    "def fit_mixed_to_group(group, df=normdata):\n",
    "    d = extract_group(group, df)\n",
    "    mixed = smf.mixedlm('Level ~ 1 +Dx + Dx:Region', data=d, groups='Subject')\n",
    "    mixedf = mixed.fit()\n",
    "    return(mixedf)\n",
    "\n",
    "fit_mixed_to_group('BMP', df=normdata).summary()"
   ]
  },
  {
   "cell_type": "code",
   "execution_count": 8,
   "id": "d3da8335",
   "metadata": {},
   "outputs": [
    {
     "data": {
      "text/html": [
       "<table class=\"simpletable\">\n",
       "<caption>OLS Regression Results</caption>\n",
       "<tr>\n",
       "  <th>Dep. Variable:</th>          <td>Level</td>      <th>  R-squared:         </th> <td>   0.149</td>\n",
       "</tr>\n",
       "<tr>\n",
       "  <th>Model:</th>                   <td>OLS</td>       <th>  Adj. R-squared:    </th> <td>   0.143</td>\n",
       "</tr>\n",
       "<tr>\n",
       "  <th>Method:</th>             <td>Least Squares</td>  <th>  F-statistic:       </th> <td>   26.00</td>\n",
       "</tr>\n",
       "<tr>\n",
       "  <th>Date:</th>             <td>Mon, 05 Sep 2022</td> <th>  Prob (F-statistic):</th> <td>3.03e-24</td>\n",
       "</tr>\n",
       "<tr>\n",
       "  <th>Time:</th>                 <td>00:17:14</td>     <th>  Log-Likelihood:    </th> <td>  4.7329</td>\n",
       "</tr>\n",
       "<tr>\n",
       "  <th>No. Observations:</th>      <td>   750</td>      <th>  AIC:               </th> <td>   2.534</td>\n",
       "</tr>\n",
       "<tr>\n",
       "  <th>Df Residuals:</th>          <td>   744</td>      <th>  BIC:               </th> <td>   30.25</td>\n",
       "</tr>\n",
       "<tr>\n",
       "  <th>Df Model:</th>              <td>     5</td>      <th>                     </th>     <td> </td>   \n",
       "</tr>\n",
       "<tr>\n",
       "  <th>Covariance Type:</th>      <td>nonrobust</td>    <th>                     </th>     <td> </td>   \n",
       "</tr>\n",
       "</table>\n",
       "<table class=\"simpletable\">\n",
       "<tr>\n",
       "                <td></td>                   <th>coef</th>     <th>std err</th>      <th>t</th>      <th>P>|t|</th>  <th>[0.025</th>    <th>0.975]</th>  \n",
       "</tr>\n",
       "<tr>\n",
       "  <th>Intercept</th>                     <td>    0.1788</td> <td>    0.020</td> <td>    9.070</td> <td> 0.000</td> <td>    0.140</td> <td>    0.217</td>\n",
       "</tr>\n",
       "<tr>\n",
       "  <th>Dx[T.ChAc]</th>                    <td>    0.1197</td> <td>    0.031</td> <td>    3.840</td> <td> 0.000</td> <td>    0.058</td> <td>    0.181</td>\n",
       "</tr>\n",
       "<tr>\n",
       "  <th>Dx[Control]:Region[T.CN]</th>      <td>   -0.0442</td> <td>    0.028</td> <td>   -1.586</td> <td> 0.113</td> <td>   -0.099</td> <td>    0.011</td>\n",
       "</tr>\n",
       "<tr>\n",
       "  <th>Dx[ChAc]:Region[T.CN]</th>         <td>    0.1094</td> <td>    0.034</td> <td>    3.204</td> <td> 0.001</td> <td>    0.042</td> <td>    0.176</td>\n",
       "</tr>\n",
       "<tr>\n",
       "  <th>Dx[Control]:Region[T.Putamen]</th> <td>    0.0002</td> <td>    0.028</td> <td>    0.006</td> <td> 0.995</td> <td>   -0.055</td> <td>    0.055</td>\n",
       "</tr>\n",
       "<tr>\n",
       "  <th>Dx[ChAc]:Region[T.Putamen]</th>    <td>    0.0693</td> <td>    0.034</td> <td>    2.030</td> <td> 0.043</td> <td>    0.002</td> <td>    0.136</td>\n",
       "</tr>\n",
       "</table>\n",
       "<table class=\"simpletable\">\n",
       "<tr>\n",
       "  <th>Omnibus:</th>       <td>109.340</td> <th>  Durbin-Watson:     </th> <td>   1.574</td>\n",
       "</tr>\n",
       "<tr>\n",
       "  <th>Prob(Omnibus):</th> <td> 0.000</td>  <th>  Jarque-Bera (JB):  </th> <td> 157.741</td>\n",
       "</tr>\n",
       "<tr>\n",
       "  <th>Skew:</th>          <td> 1.034</td>  <th>  Prob(JB):          </th> <td>5.58e-35</td>\n",
       "</tr>\n",
       "<tr>\n",
       "  <th>Kurtosis:</th>      <td> 3.877</td>  <th>  Cond. No.          </th> <td>    6.40</td>\n",
       "</tr>\n",
       "</table><br/><br/>Notes:<br/>[1] Standard Errors assume that the covariance matrix of the errors is correctly specified."
      ],
      "text/plain": [
       "<class 'statsmodels.iolib.summary.Summary'>\n",
       "\"\"\"\n",
       "                            OLS Regression Results                            \n",
       "==============================================================================\n",
       "Dep. Variable:                  Level   R-squared:                       0.149\n",
       "Model:                            OLS   Adj. R-squared:                  0.143\n",
       "Method:                 Least Squares   F-statistic:                     26.00\n",
       "Date:                Mon, 05 Sep 2022   Prob (F-statistic):           3.03e-24\n",
       "Time:                        00:17:14   Log-Likelihood:                 4.7329\n",
       "No. Observations:                 750   AIC:                             2.534\n",
       "Df Residuals:                     744   BIC:                             30.25\n",
       "Df Model:                           5                                         \n",
       "Covariance Type:            nonrobust                                         \n",
       "=================================================================================================\n",
       "                                    coef    std err          t      P>|t|      [0.025      0.975]\n",
       "-------------------------------------------------------------------------------------------------\n",
       "Intercept                         0.1788      0.020      9.070      0.000       0.140       0.217\n",
       "Dx[T.ChAc]                        0.1197      0.031      3.840      0.000       0.058       0.181\n",
       "Dx[Control]:Region[T.CN]         -0.0442      0.028     -1.586      0.113      -0.099       0.011\n",
       "Dx[ChAc]:Region[T.CN]             0.1094      0.034      3.204      0.001       0.042       0.176\n",
       "Dx[Control]:Region[T.Putamen]     0.0002      0.028      0.006      0.995      -0.055       0.055\n",
       "Dx[ChAc]:Region[T.Putamen]        0.0693      0.034      2.030      0.043       0.002       0.136\n",
       "==============================================================================\n",
       "Omnibus:                      109.340   Durbin-Watson:                   1.574\n",
       "Prob(Omnibus):                  0.000   Jarque-Bera (JB):              157.741\n",
       "Skew:                           1.034   Prob(JB):                     5.58e-35\n",
       "Kurtosis:                       3.877   Cond. No.                         6.40\n",
       "==============================================================================\n",
       "\n",
       "Notes:\n",
       "[1] Standard Errors assume that the covariance matrix of the errors is correctly specified.\n",
       "\"\"\""
      ]
     },
     "execution_count": 8,
     "metadata": {},
     "output_type": "execute_result"
    }
   ],
   "source": [
    "def fit_fixed_to_group(group, df=normdata):\n",
    "    d = extract_group(group, df)\n",
    "    fixed = smf.ols('Level ~ 1 + Dx + Dx:Region', data=d)\n",
    "    fixedf = fixed.fit()\n",
    "    return(fixedf)\n",
    "\n",
    "fit_fixed_to_group('BMP', df=normdata).summary()"
   ]
  },
  {
   "cell_type": "code",
   "execution_count": 9,
   "id": "15f3cff2",
   "metadata": {},
   "outputs": [
    {
     "data": {
      "image/png": "[encoded data removed]",
      "text/plain": [
       "<Figure size 432x288 with 3 Axes>"
      ]
     },
     "metadata": {
      "needs_background": "light"
     },
     "output_type": "display_data"
    }
   ],
   "source": [
    "fig, ax = heatmap('Sulf', lipid_species)"
   ]
  },
  {
   "cell_type": "code",
   "execution_count": 10,
   "id": "6d09b508",
   "metadata": {},
   "outputs": [
    {
     "data": {
      "image/png": "[encoded data removed]",
      "text/plain": [
       "<Figure size 432x288 with 3 Axes>"
      ]
     },
     "metadata": {
      "needs_background": "light"
     },
     "output_type": "display_data"
    }
   ],
   "source": [
    "fig, ax = heatmap('Sulf', norm_lipid_species)"
   ]
  },
  {
   "cell_type": "code",
   "execution_count": 11,
   "id": "49b200ce",
   "metadata": {},
   "outputs": [
    {
     "data": {
      "text/html": [
       "<table class=\"simpletable\">\n",
       "<tr>\n",
       "       <td>Model:</td>       <td>MixedLM</td> <td>Dependent Variable:</td>   <td>Level</td> \n",
       "</tr>\n",
       "<tr>\n",
       "  <td>No. Observations:</td>   <td>540</td>         <td>Method:</td>         <td>REML</td>  \n",
       "</tr>\n",
       "<tr>\n",
       "     <td>No. Groups:</td>      <td>10</td>          <td>Scale:</td>         <td>0.0346</td> \n",
       "</tr>\n",
       "<tr>\n",
       "  <td>Min. group size:</td>    <td>54</td>      <td>Log-Likelihood:</td>   <td>113.0937</td>\n",
       "</tr>\n",
       "<tr>\n",
       "  <td>Max. group size:</td>    <td>54</td>        <td>Converged:</td>         <td>Yes</td>  \n",
       "</tr>\n",
       "<tr>\n",
       "  <td>Mean group size:</td>   <td>54.0</td>            <td></td>               <td></td>    \n",
       "</tr>\n",
       "</table>\n",
       "<table class=\"simpletable\">\n",
       "<tr>\n",
       "                <td></td>                 <th>Coef.</th> <th>Std.Err.</th>    <th>z</th>   <th>P>|z|</th> <th>[0.025</th> <th>0.975]</th>\n",
       "</tr>\n",
       "<tr>\n",
       "  <th>Intercept</th>                      <td>0.297</td>   <td>0.061</td>   <td>4.886</td> <td>0.000</td>  <td>0.178</td>  <td>0.417</td>\n",
       "</tr>\n",
       "<tr>\n",
       "  <th>Dx[T.ChAc]</th>                    <td>-0.087</td>   <td>0.096</td>  <td>-0.904</td> <td>0.366</td> <td>-0.276</td>  <td>0.102</td>\n",
       "</tr>\n",
       "<tr>\n",
       "  <th>Dx[Control]:Region[T.CN]</th>      <td>-0.079</td>   <td>0.025</td>  <td>-3.109</td> <td>0.002</td> <td>-0.128</td> <td>-0.029</td>\n",
       "</tr>\n",
       "<tr>\n",
       "  <th>Dx[ChAc]:Region[T.CN]</th>          <td>0.245</td>   <td>0.031</td>   <td>7.895</td> <td>0.000</td>  <td>0.184</td>  <td>0.306</td>\n",
       "</tr>\n",
       "<tr>\n",
       "  <th>Dx[Control]:Region[T.Putamen]</th> <td>-0.100</td>   <td>0.025</td>  <td>-3.958</td> <td>0.000</td> <td>-0.150</td> <td>-0.051</td>\n",
       "</tr>\n",
       "<tr>\n",
       "  <th>Dx[ChAc]:Region[T.Putamen]</th>     <td>0.285</td>   <td>0.031</td>   <td>9.189</td> <td>0.000</td>  <td>0.224</td>  <td>0.346</td>\n",
       "</tr>\n",
       "<tr>\n",
       "  <th>Subject Var</th>                    <td>0.020</td>   <td>0.057</td>     <td></td>      <td></td>       <td></td>       <td></td>   \n",
       "</tr>\n",
       "</table>"
      ],
      "text/plain": [
       "<class 'statsmodels.iolib.summary2.Summary'>\n",
       "\"\"\"\n",
       "                 Mixed Linear Model Regression Results\n",
       "========================================================================\n",
       "Model:                  MixedLM       Dependent Variable:       Level   \n",
       "No. Observations:       540           Method:                   REML    \n",
       "No. Groups:             10            Scale:                    0.0346  \n",
       "Min. group size:        54            Log-Likelihood:           113.0937\n",
       "Max. group size:        54            Converged:                Yes     \n",
       "Mean group size:        54.0                                            \n",
       "------------------------------------------------------------------------\n",
       "                              Coef.  Std.Err.   z    P>|z| [0.025 0.975]\n",
       "------------------------------------------------------------------------\n",
       "Intercept                      0.297    0.061  4.886 0.000  0.178  0.417\n",
       "Dx[T.ChAc]                    -0.087    0.096 -0.904 0.366 -0.276  0.102\n",
       "Dx[Control]:Region[T.CN]      -0.079    0.025 -3.109 0.002 -0.128 -0.029\n",
       "Dx[ChAc]:Region[T.CN]          0.245    0.031  7.895 0.000  0.184  0.306\n",
       "Dx[Control]:Region[T.Putamen] -0.100    0.025 -3.958 0.000 -0.150 -0.051\n",
       "Dx[ChAc]:Region[T.Putamen]     0.285    0.031  9.189 0.000  0.224  0.346\n",
       "Subject Var                    0.020    0.057                           \n",
       "========================================================================\n",
       "\n",
       "\"\"\""
      ]
     },
     "execution_count": 11,
     "metadata": {},
     "output_type": "execute_result"
    }
   ],
   "source": [
    "fit_mixed_to_group('Sulf', df=normdata).summary()"
   ]
  },
  {
   "cell_type": "code",
   "execution_count": 12,
   "id": "8b1300a8",
   "metadata": {},
   "outputs": [
    {
     "name": "stderr",
     "output_type": "stream",
     "text": [
      "/usr/local/anaconda3/lib/python3.8/site-packages/statsmodels/regression/mixed_linear_model.py:2237: ConvergenceWarning: The MLE may be on the boundary of the parameter space.\n",
      "  warnings.warn(msg, ConvergenceWarning)\n"
     ]
    },
    {
     "data": {
      "text/html": [
       "<table class=\"simpletable\">\n",
       "<tr>\n",
       "       <td>Model:</td>       <td>MixedLM</td> <td>Dependent Variable:</td>  <td>Level</td> \n",
       "</tr>\n",
       "<tr>\n",
       "  <td>No. Observations:</td>   <td>750</td>         <td>Method:</td>        <td>REML</td>  \n",
       "</tr>\n",
       "<tr>\n",
       "     <td>No. Groups:</td>      <td>10</td>          <td>Scale:</td>        <td>0.0504</td> \n",
       "</tr>\n",
       "<tr>\n",
       "  <td>Min. group size:</td>    <td>75</td>      <td>Log-Likelihood:</td>   <td>30.5655</td>\n",
       "</tr>\n",
       "<tr>\n",
       "  <td>Max. group size:</td>    <td>75</td>        <td>Converged:</td>        <td>Yes</td>  \n",
       "</tr>\n",
       "<tr>\n",
       "  <td>Mean group size:</td>   <td>75.0</td>            <td></td>              <td></td>    \n",
       "</tr>\n",
       "</table>\n",
       "<table class=\"simpletable\">\n",
       "<tr>\n",
       "                <td></td>                 <th>Coef.</th> <th>Std.Err.</th>    <th>z</th>   <th>P>|z|</th> <th>[0.025</th> <th>0.975]</th>\n",
       "</tr>\n",
       "<tr>\n",
       "  <th>Intercept</th>                      <td>0.179</td>   <td>0.044</td>   <td>4.027</td> <td>0.000</td>  <td>0.092</td>  <td>0.266</td>\n",
       "</tr>\n",
       "<tr>\n",
       "  <th>Dx[T.ChAc]</th>                     <td>0.120</td>   <td>0.070</td>   <td>1.705</td> <td>0.088</td> <td>-0.018</td>  <td>0.257</td>\n",
       "</tr>\n",
       "<tr>\n",
       "  <th>Dx[Control]:Region[T.CN]</th>      <td>-0.044</td>   <td>0.026</td>  <td>-1.706</td> <td>0.088</td> <td>-0.095</td>  <td>0.007</td>\n",
       "</tr>\n",
       "<tr>\n",
       "  <th>Dx[ChAc]:Region[T.CN]</th>          <td>0.109</td>   <td>0.032</td>   <td>3.447</td> <td>0.001</td>  <td>0.047</td>  <td>0.172</td>\n",
       "</tr>\n",
       "<tr>\n",
       "  <th>Dx[Control]:Region[T.Putamen]</th>  <td>0.000</td>   <td>0.026</td>   <td>0.007</td> <td>0.994</td> <td>-0.051</td>  <td>0.051</td>\n",
       "</tr>\n",
       "<tr>\n",
       "  <th>Dx[ChAc]:Region[T.Putamen]</th>     <td>0.069</td>   <td>0.032</td>   <td>2.184</td> <td>0.029</td>  <td>0.007</td>  <td>0.132</td>\n",
       "</tr>\n",
       "<tr>\n",
       "  <th>Subject Var</th>                    <td>0.010</td>   <td>0.023</td>     <td></td>      <td></td>       <td></td>       <td></td>   \n",
       "</tr>\n",
       "</table>"
      ],
      "text/plain": [
       "<class 'statsmodels.iolib.summary2.Summary'>\n",
       "\"\"\"\n",
       "                 Mixed Linear Model Regression Results\n",
       "========================================================================\n",
       "Model:                   MixedLM       Dependent Variable:       Level  \n",
       "No. Observations:        750           Method:                   REML   \n",
       "No. Groups:              10            Scale:                    0.0504 \n",
       "Min. group size:         75            Log-Likelihood:           30.5655\n",
       "Max. group size:         75            Converged:                Yes    \n",
       "Mean group size:         75.0                                           \n",
       "------------------------------------------------------------------------\n",
       "                              Coef.  Std.Err.   z    P>|z| [0.025 0.975]\n",
       "------------------------------------------------------------------------\n",
       "Intercept                      0.179    0.044  4.027 0.000  0.092  0.266\n",
       "Dx[T.ChAc]                     0.120    0.070  1.705 0.088 -0.018  0.257\n",
       "Dx[Control]:Region[T.CN]      -0.044    0.026 -1.706 0.088 -0.095  0.007\n",
       "Dx[ChAc]:Region[T.CN]          0.109    0.032  3.447 0.001  0.047  0.172\n",
       "Dx[Control]:Region[T.Putamen]  0.000    0.026  0.007 0.994 -0.051  0.051\n",
       "Dx[ChAc]:Region[T.Putamen]     0.069    0.032  2.184 0.029  0.007  0.132\n",
       "Subject Var                    0.010    0.023                           \n",
       "========================================================================\n",
       "\n",
       "\"\"\""
      ]
     },
     "execution_count": 12,
     "metadata": {},
     "output_type": "execute_result"
    }
   ],
   "source": [
    "fit_mixed_to_group('BMP', df=normdata).summary()"
   ]
  },
  {
   "cell_type": "code",
   "execution_count": 13,
   "id": "9140ea26",
   "metadata": {},
   "outputs": [
    {
     "name": "stdout",
     "output_type": "stream",
     "text": [
      "{\n",
      "  \"shell_port\": 58738,\n",
      "  \"iopub_port\": 58739,\n",
      "  \"stdin_port\": 58740,\n",
      "  \"control_port\": 58742,\n",
      "  \"hb_port\": 58741,\n",
      "  \"ip\": \"127.0.0.1\",\n",
      "  \"key\": \"cb655d5b-0723ead18e1739c75c260065\",\n",
      "  \"transport\": \"tcp\",\n",
      "  \"signature_scheme\": \"hmac-sha256\",\n",
      "  \"kernel_name\": \"\"\n",
      "}\n",
      "\n",
      "Paste the above JSON into a file, and connect with:\n",
      "    $> jupyter <app> --existing <file>\n",
      "or, if you are local, you can connect with just:\n",
      "    $> jupyter <app> --existing kernel-92dc17a4-3ede-42d4-8ab8-607ddeecd669.json\n",
      "or even just:\n",
      "    $> jupyter <app> --existing\n",
      "if this is the most recent Jupyter kernel you have started.\n"
     ]
    }
   ],
   "source": [
    "%connect_info"
   ]
  },
  {
   "cell_type": "code",
   "execution_count": null,
   "id": "91f1fe14",
   "metadata": {},
   "outputs": [],
   "source": []
  }
 ],
 "metadata": {
  "kernelspec": {
   "display_name": "Python 3",
   "language": "python",
   "name": "python3"
  },
  "language_info": {
   "codemirror_mode": {
    "name": "ipython",
    "version": 3
   },
   "file_extension": ".py",
   "mimetype": "text/x-python",
   "name": "python",
   "nbconvert_exporter": "python",
   "pygments_lexer": "ipython3",
   "version": "3.8.8"
  }
 },
 "nbformat": 4,
 "nbformat_minor": 5
}
